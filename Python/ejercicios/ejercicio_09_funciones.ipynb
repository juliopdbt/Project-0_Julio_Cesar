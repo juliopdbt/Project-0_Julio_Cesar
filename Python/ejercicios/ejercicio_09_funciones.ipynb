{
 "cells": [
  {
   "cell_type": "markdown",
   "metadata": {},
   "source": [
    "\n",
    "<div style=\"text-align: center;\">\n",
    "  <img src=\"https://github.com/Hack-io-Data/Imagenes/blob/main/01-LogosHackio/logo_celeste@4x.png?raw=true\" alt=\"esquema\" />\n",
    "</div>"
   ]
  },
  {
   "cell_type": "markdown",
   "metadata": {},
   "source": [
    "#### 1. Escribe una función sin parámetros que imprima el siguiente mensaje \"¡Hola! Bienvenido.\"\n"
   ]
  },
  {
   "cell_type": "code",
   "execution_count": 1,
   "metadata": {},
   "outputs": [
    {
     "name": "stdout",
     "output_type": "stream",
     "text": [
      "¡Hola!, Bienvenido.\n"
     ]
    }
   ],
   "source": [
    "def saludo():\n",
    "    print(\"¡Hola!, Bienvenido.\")\n",
    "\n",
    "saludo()"
   ]
  },
  {
   "cell_type": "markdown",
   "metadata": {},
   "source": [
    "#### 2. Escribe una función que reciba dos parámetros y devuelva la suma de ambos.\n"
   ]
  },
  {
   "cell_type": "code",
   "execution_count": 2,
   "metadata": {},
   "outputs": [
    {
     "name": "stdout",
     "output_type": "stream",
     "text": [
      "la suma es. 17\n"
     ]
    }
   ],
   "source": [
    "def sumar(a,b):\n",
    "    return a+b\n",
    "\n",
    "resultado = sumar(10,7)\n",
    "print(f\"la suma es. {resultado}\")\n"
   ]
  },
  {
   "cell_type": "markdown",
   "metadata": {},
   "source": [
    "#### 3. Escribe una función que reciba un número y devuelva True si es par, False si no lo es."
   ]
  },
  {
   "cell_type": "code",
   "execution_count": 4,
   "metadata": {},
   "outputs": [
    {
     "name": "stdout",
     "output_type": "stream",
     "text": [
      "¿El resultado es par?: False\n"
     ]
    }
   ],
   "source": [
    "def es_par(número):\n",
    "    return número %2 == 0\n",
    "\n",
    "resultado= es_par(13)\n",
    "print(f\"¿El resultado es par?: {resultado}\")"
   ]
  },
  {
   "cell_type": "markdown",
   "metadata": {},
   "source": [
    "#### 4. Escribe un función que devuelva un saludo personalizado a una persona dado su nombre. \n"
   ]
  },
  {
   "cell_type": "code",
   "execution_count": 7,
   "metadata": {},
   "outputs": [
    {
     "name": "stdout",
     "output_type": "stream",
     "text": [
      "Buenos días Alicia, un placer saludarle\n"
     ]
    }
   ],
   "source": [
    "def saludo_personalizado(nombre):\n",
    "    return f\"Buenos días {nombre}, un placer saludarle\"\n",
    "\n",
    "mensaje = saludo_personalizado(\"Alicia\")\n",
    "print(mensaje)"
   ]
  },
  {
   "cell_type": "markdown",
   "metadata": {},
   "source": [
    "#### 5. Escribe una función que sume todos los números que reciba como argumento. La función debe recibir una cantidad variable de argumentos y devolver la suma de todos ellos."
   ]
  },
  {
   "cell_type": "code",
   "execution_count": 8,
   "metadata": {},
   "outputs": [
    {
     "name": "stdout",
     "output_type": "stream",
     "text": [
      "la suma todos los argumentos es: 37.\n"
     ]
    }
   ],
   "source": [
    "def sumar_todos(*args):\n",
    "    return sum (args)\n",
    "\n",
    "argumentos = sumar_todos(8,10,9,7,3)\n",
    "print(f\"la suma todos los argumentos es: {argumentos}.\")"
   ]
  },
  {
   "cell_type": "markdown",
   "metadata": {},
   "source": [
    "#### 6. Escribe una función que cuente las letras de una palabra y devuelva un diccionario con la cantidad de veces que se repite cada letra \n"
   ]
  },
  {
   "cell_type": "code",
   "execution_count": 10,
   "metadata": {},
   "outputs": [
    {
     "name": "stdout",
     "output_type": "stream",
     "text": [
      "{'a': 3, 'r': 2, 'i': 2, 's': 1, 't': 1, 'o': 1, 'c': 2}\n"
     ]
    }
   ],
   "source": [
    "def contar_letras(palabra):\n",
    "    contar = {}\n",
    "    for letra in palabra:\n",
    "        if letra in contar:\n",
    "            contar[letra]+=1\n",
    "        else:\n",
    "            contar[letra]=1\n",
    "    return contar\n",
    "\n",
    "resultado = contar_letras(\"aristocracia\")\n",
    "print(resultado)"
   ]
  },
  {
   "cell_type": "markdown",
   "metadata": {},
   "source": [
    "#### 7. Escribe un función recursiva para calcular el factorial de un número entero no negativo."
   ]
  },
  {
   "cell_type": "code",
   "execution_count": 14,
   "metadata": {},
   "outputs": [
    {
     "name": "stdout",
     "output_type": "stream",
     "text": [
      "El factorial de 10 es: 3628800\n"
     ]
    }
   ],
   "source": [
    "def factorial(n):\n",
    "    if n == 0 or n == 1:\n",
    "        return 1\n",
    "    else:\n",
    "        return n * factorial(n-1)\n",
    "    \n",
    "numero = 10\n",
    "resultado = factorial(numero)\n",
    "print(f\"El factorial de {numero} es: {resultado}\")"
   ]
  },
  {
   "cell_type": "markdown",
   "metadata": {},
   "source": [
    "#### 8. Escribe una función que tome dos parámetros: `figura` (una cadena que puede ser `\"rectangulo\"`, `\"circulo\"` o `\"triangulo\"`) y `datos` (una tupla con los datos necesarios para calcular el área de la figura). "
   ]
  },
  {
   "cell_type": "code",
   "execution_count": 19,
   "metadata": {},
   "outputs": [
    {
     "name": "stdout",
     "output_type": "stream",
     "text": [
      "El área del rectangulo corresponde a: 24\n",
      "El área del triangulo corresponde a: 21.0\n",
      "El área del circulo corresponde a: 78.53981633974483\n"
     ]
    }
   ],
   "source": [
    "import math\n",
    "\n",
    "def calcular_area(figura, datos):\n",
    "    if figura == \"rectangulo\":\n",
    "        base, altura = datos\n",
    "        return base*altura\n",
    "    \n",
    "    elif figura == \"triangulo\":\n",
    "        base, altura =datos\n",
    "        return (base * altura) / 2\n",
    "    \n",
    "    elif figura == \"circulo\":\n",
    "        radio,= datos\n",
    "        return math.pi * (radio ** 2)\n",
    "    else:\n",
    "        return \"figura no valida\"\n",
    "\n",
    "area_rectangulo = calcular_area(\"rectangulo\", (8,3))\n",
    "area_triangulo = calcular_area(\"triangulo\", (7,6))\n",
    "area_circulo = calcular_area(\"circulo\",(5,))\n",
    "\n",
    "print(f\"El área del rectangulo corresponde a: {area_rectangulo}\")\n",
    "print(f\"El área del triangulo corresponde a: {area_triangulo}\")\n",
    "print(f\"El área del circulo corresponde a: {area_circulo}\")\n"
   ]
  },
  {
   "cell_type": "markdown",
   "metadata": {},
   "source": [
    "#### 9. Escribe una función que tome una lista de números como parámetro y devuelva el número más grande de la lista. No utilices la función `max()` de Python en tu solución."
   ]
  },
  {
   "cell_type": "code",
   "execution_count": 20,
   "metadata": {},
   "outputs": [
    {
     "name": "stdout",
     "output_type": "stream",
     "text": [
      "89\n"
     ]
    }
   ],
   "source": [
    "def numero_mayor(lista_numeros):\n",
    "    if len(lista_numeros) == 0:\n",
    "        return None\n",
    "    mayor= lista_numeros[0]\n",
    "    for numero in lista_numeros:\n",
    "        if numero > mayor:\n",
    "            mayor=numero\n",
    "    return mayor\n",
    "numeros =[45, 68, 73, 89, 12, 17, 28, 43]\n",
    "resultado = numero_mayor(numeros)\n",
    "print(resultado)"
   ]
  },
  {
   "cell_type": "markdown",
   "metadata": {},
   "source": [
    "#### 10. Escribe una función que tome una cadena como parámetro un texto y devuelva `True` si la cadena es un palíndromo (se lee igual de izquierda a derecha que de derecha a izquierda), y `False` en caso contrario. Ignora los espacios y considera mayúsculas y minúsculas de manera insensible.\n"
   ]
  },
  {
   "cell_type": "code",
   "execution_count": 22,
   "metadata": {},
   "outputs": [
    {
     "name": "stdout",
     "output_type": "stream",
     "text": [
      "'Anita lava la tina' es palíndromo: True\n",
      "'Hola Mundo' es palíndromo: False\n"
     ]
    }
   ],
   "source": [
    "def es_palindromo(texto):\n",
    "\n",
    "    texto_limpio = texto.replace(\" \", \"\").lower()\n",
    "    \n",
    "    return texto_limpio == texto_limpio[::-1]\n",
    "\n",
    "resultado1 = es_palindromo(\"Anita lava la tina\")\n",
    "resultado2 = es_palindromo(\"Hola Mundo\")\n",
    "\n",
    "print(f\"'Anita lava la tina' es palíndromo: {resultado1}\")\n",
    "print(f\"'Hola Mundo' es palíndromo: {resultado2}\")\n"
   ]
  },
  {
   "cell_type": "markdown",
   "metadata": {},
   "source": [
    "#### 11. Escribe una función que tome una cadena como parámetro y devuelva dos valores: la cantidad de vocales y la cantidad de consonantes presentes en la cadena. Ignora los espacios y considera mayúsculas y minúsculas de manera insensible.\n"
   ]
  },
  {
   "cell_type": "code",
   "execution_count": 26,
   "metadata": {},
   "outputs": [
    {
     "name": "stdout",
     "output_type": "stream",
     "text": [
      "Vocales: 4, Consonantes: 5\n"
     ]
    }
   ],
   "source": [
    "def contar_vocales_consonantes(texto):\n",
    "\n",
    "    vocales = \"aeiou\"\n",
    "    \n",
    "\n",
    "    texto_limpio = texto.replace(\" \", \"\").lower()\n",
    "\n",
    "    cantidad_vocales = 0\n",
    "    cantidad_consonantes = 0\n",
    "    \n",
    "\n",
    "    for letra in texto_limpio:\n",
    "        if letra.isalpha(): \n",
    "              if letra in vocales:\n",
    "                cantidad_vocales += 1\n",
    "              else:\n",
    "                cantidad_consonantes += 1\n",
    "    \n",
    "    return cantidad_vocales, cantidad_consonantes\n",
    "\n",
    "vocales, consonantes = contar_vocales_consonantes(\"Hola Mundo\")\n",
    "\n",
    "print(f\"Vocales: {vocales}, Consonantes: {consonantes}\")\n"
   ]
  }
 ],
 "metadata": {
  "kernelspec": {
   "display_name": "Python 3",
   "language": "python",
   "name": "python3"
  },
  "language_info": {
   "codemirror_mode": {
    "name": "ipython",
    "version": 3
   },
   "file_extension": ".py",
   "mimetype": "text/x-python",
   "name": "python",
   "nbconvert_exporter": "python",
   "pygments_lexer": "ipython3",
   "version": "3.12.6"
  }
 },
 "nbformat": 4,
 "nbformat_minor": 2
}
