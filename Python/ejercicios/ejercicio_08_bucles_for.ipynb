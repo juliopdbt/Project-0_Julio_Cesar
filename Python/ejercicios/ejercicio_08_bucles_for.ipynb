{
 "cells": [
  {
   "cell_type": "markdown",
   "metadata": {},
   "source": [
    "<div style=\"text-align: center;\">\n",
    "  <img src=\"https://github.com/Hack-io-Data/Imagenes/blob/main/01-LogosHackio/logo_celeste@4x.png?raw=true\" alt=\"logo hack(io)\" />\n",
    "</div>"
   ]
  },
  {
   "cell_type": "markdown",
   "metadata": {},
   "source": [
    "####  1. Genera una lista de números del 0 al 4 y luego imprime cada número en la lista usando un `bucle for`. "
   ]
  },
  {
   "cell_type": "code",
   "execution_count": 1,
   "metadata": {},
   "outputs": [
    {
     "name": "stdout",
     "output_type": "stream",
     "text": [
      "0\n",
      "1\n",
      "2\n",
      "3\n",
      "4\n"
     ]
    }
   ],
   "source": [
    "lista1 = [0,1,2,3,4]\n",
    "for numero in lista1:\n",
    "    print(numero)"
   ]
  },
  {
   "cell_type": "markdown",
   "metadata": {},
   "source": [
    "#### 2. Itera sobre una lista de frutas y muestra cada fruta en mayúsculas. \n"
   ]
  },
  {
   "cell_type": "code",
   "execution_count": 6,
   "metadata": {},
   "outputs": [
    {
     "name": "stdout",
     "output_type": "stream",
     "text": [
      "MANZANA\n",
      "GRANADILLA\n",
      "MARACUYÁ\n"
     ]
    }
   ],
   "source": [
    "frutas = [\"Manzana\", \"Granadilla\", \"Maracuyá\"]\n",
    "\n",
    "for fruta in frutas:\n",
    "    print(fruta.upper())\n"
   ]
  },
  {
   "cell_type": "markdown",
   "metadata": {},
   "source": [
    "####  3. Genera un bucle while que imprima los números del 0 al 4. \n"
   ]
  },
  {
   "cell_type": "code",
   "execution_count": 7,
   "metadata": {},
   "outputs": [
    {
     "name": "stdout",
     "output_type": "stream",
     "text": [
      "0\n",
      "1\n",
      "2\n",
      "3\n",
      "4\n"
     ]
    }
   ],
   "source": [
    "numero = 0\n",
    "\n",
    "while numero <= 4:\n",
    "    print(numero)\n",
    "    numero += 1 \n"
   ]
  },
  {
   "cell_type": "markdown",
   "metadata": {},
   "source": [
    "#### 4. Genera un bucle del 0 al 9, pero que se detenga en el 5.\n"
   ]
  },
  {
   "cell_type": "code",
   "execution_count": 8,
   "metadata": {},
   "outputs": [
    {
     "name": "stdout",
     "output_type": "stream",
     "text": [
      "0\n",
      "1\n",
      "2\n",
      "3\n",
      "4\n"
     ]
    }
   ],
   "source": [
    "for numero in range(10):\n",
    "    if numero == 5: \n",
    "        break\n",
    "    print(numero)\n"
   ]
  },
  {
   "cell_type": "markdown",
   "metadata": {},
   "source": [
    "#### 5. Recorre los números del 0 al 9 e imprime solo los números impares."
   ]
  },
  {
   "cell_type": "code",
   "execution_count": 9,
   "metadata": {},
   "outputs": [
    {
     "name": "stdout",
     "output_type": "stream",
     "text": [
      "1\n",
      "3\n",
      "5\n",
      "7\n",
      "9\n"
     ]
    }
   ],
   "source": [
    "\n",
    "for numero in range(10):\n",
    "    if numero % 2 != 0:\n",
    "        print(numero)\n"
   ]
  },
  {
   "cell_type": "markdown",
   "metadata": {},
   "source": [
    "#### 6. Dada la lista `[10, 20, 30, 40, 50]`, calcula la suma de todos los elementos usando un bucle `for`."
   ]
  },
  {
   "cell_type": "code",
   "execution_count": 13,
   "metadata": {},
   "outputs": [
    {
     "name": "stdout",
     "output_type": "stream",
     "text": [
      "La suma de todos los elementos es: 150\n"
     ]
    }
   ],
   "source": [
    "# Lista de números\n",
    "numeros = [10, 20, 30, 40, 50]\n",
    "\n",
    "# Inicializar la variable para almacenar la suma\n",
    "suma_total = 0\n",
    "\n",
    "# Iterar sobre la lista y sumar los elementos\n",
    "for numero in numeros:\n",
    "    suma_total += numero\n",
    "\n",
    "# Imprimir el resultado\n",
    "print(f\"La suma de todos los elementos es: {suma_total}\")\n"
   ]
  },
  {
   "cell_type": "markdown",
   "metadata": {},
   "source": [
    "#### 7. Dada la cadena `\"Hola mundo\"`, cuenta cuántas veces aparecen las vocales (`a`, `e`, `i`, `o`, `u`) usando un bucle `for`.\n"
   ]
  },
  {
   "cell_type": "code",
   "execution_count": 15,
   "metadata": {},
   "outputs": [
    {
     "name": "stdout",
     "output_type": "stream",
     "text": [
      "La vocal 'a' aparece 1 veces.\n",
      "La vocal 'e' aparece 0 veces.\n",
      "La vocal 'i' aparece 0 veces.\n",
      "La vocal 'o' aparece 2 veces.\n",
      "La vocal 'u' aparece 1 veces.\n"
     ]
    }
   ],
   "source": [
    "# Cadena de texto\n",
    "cadena = \"Hola mundo\"\n",
    "\n",
    "# Diccionario para contar las vocales\n",
    "conteo_vocales = {'a': 0, 'e': 0, 'i': 0, 'o': 0, 'u': 0}\n",
    "\n",
    "# Iterar sobre cada carácter en la cadena\n",
    "for caracter in cadena.lower():  \n",
    "    if caracter in conteo_vocales: \n",
    "        conteo_vocales[caracter] += 1\n",
    "\n",
    "# Imprimir el resultado\n",
    "for vocal, cantidad in conteo_vocales.items():\n",
    "    print(f\"La vocal '{vocal}' aparece {cantidad} veces.\")\n"
   ]
  },
  {
   "cell_type": "markdown",
   "metadata": {},
   "source": [
    "#### 8. Dada la cadena `\"Python\"`, usa un bucle `for` para imprimir los caracteres en orden inverso (`n`, `o`, `h`, `t`, `y`, `P`).\n"
   ]
  },
  {
   "cell_type": "code",
   "execution_count": 24,
   "metadata": {},
   "outputs": [
    {
     "name": "stdout",
     "output_type": "stream",
     "text": [
      "n\n",
      "o\n",
      "h\n",
      "t\n",
      "y\n",
      "P\n"
     ]
    }
   ],
   "source": [
    "# Cadena de texto\n",
    "cadena = \"Python\"\n",
    "\n",
    "# Usar un bucle for para recorrer los caracteres en orden inverso\n",
    "for caracter in reversed(cadena):  # La función reversed invierte la cadena\n",
    "    print(caracter)\n"
   ]
  },
  {
   "cell_type": "markdown",
   "metadata": {},
   "source": [
    "#### 9. Dada la lista `[1, 2, 3, 4, 5]`, multiplica todos sus elementos usando un bucle `for` y almacena los resultados en una lista nueva. \n"
   ]
  },
  {
   "cell_type": "code",
   "execution_count": 25,
   "metadata": {},
   "outputs": [
    {
     "name": "stdout",
     "output_type": "stream",
     "text": [
      "[2, 4, 6, 8, 10]\n"
     ]
    }
   ],
   "source": [
    "# Lista original\n",
    "numeros = [1, 2, 3, 4, 5]\n",
    "\n",
    "# Lista para almacenar los resultados\n",
    "resultados = []\n",
    "\n",
    "# Multiplicar cada elemento de la lista por 2 y almacenarlo en la nueva lista\n",
    "for numero in numeros:\n",
    "    resultados.append(numero * 2)\n",
    "\n",
    "# Imprimir la nueva lista\n",
    "print(resultados)\n"
   ]
  },
  {
   "cell_type": "markdown",
   "metadata": {},
   "source": [
    "#### 10. Dada la lista `[1, 2, 3, 4, 5, 6, 7, 8, 9, 10]`, utiliza un bucle `for` para contar cuántos números son pares y cuántos son impares."
   ]
  },
  {
   "cell_type": "code",
   "execution_count": 23,
   "metadata": {},
   "outputs": [
    {
     "name": "stdout",
     "output_type": "stream",
     "text": [
      "Números pares: 5\n",
      "Números impares: 5\n"
     ]
    }
   ],
   "source": [
    "# Lista de números\n",
    "numeros = [1, 2, 3, 4, 5, 6, 7, 8, 9, 10]\n",
    "\n",
    "# Inicializar contadores\n",
    "contador_pares = 0\n",
    "contador_impares = 0\n",
    "\n",
    "# Usar un bucle for para recorrer la lista\n",
    "for numero in numeros:\n",
    "    if numero % 2 == 0:  # Verificar si el número es par\n",
    "        contador_pares += 1\n",
    "    else:  # Si no es par, es impar\n",
    "        contador_impares += 1\n",
    "\n",
    "# Imprimir los resultados\n",
    "print(f\"Números pares: {contador_pares}\")\n",
    "print(f\"Números impares: {contador_impares}\")\n"
   ]
  },
  {
   "cell_type": "markdown",
   "metadata": {},
   "source": [
    "#### 11. Escribe un programa que solicite al usuario un número entero positivo (`n`) y calcule la suma de todos los números primos menores o iguales a `n`. Utiliza un bucle `for` para iterar sobre cada número y verifica si es primo."
   ]
  },
  {
   "cell_type": "code",
   "execution_count": 22,
   "metadata": {},
   "outputs": [
    {
     "name": "stdout",
     "output_type": "stream",
     "text": [
      "La suma de todos los números primos menores o iguales a 50 es: 328\n"
     ]
    }
   ],
   "source": [
    "# Solicitar al usuario un número entero positivo\n",
    "n = int(input(\"Ingrese un número entero positivo: \"))\n",
    "\n",
    "# Función para verificar si un número es primo\n",
    "def es_primo(numero):\n",
    "    if numero < 2:\n",
    "        return False\n",
    "    for i in range(2, int(numero ** 0.5) + 1):\n",
    "        if numero % i == 0:\n",
    "            return False\n",
    "    return True\n",
    "\n",
    "# Calcular la suma de los números primos menores o iguales a n\n",
    "suma_primos = 0\n",
    "for num in range(2, n + 1):  # Iterar desde 2 hasta n\n",
    "    if es_primo(num):\n",
    "        suma_primos += num\n",
    "\n",
    "# Imprimir el resultado\n",
    "print(f\"La suma de todos los números primos menores o iguales a {n} es: {suma_primos}\")\n",
    "\n"
   ]
  },
  {
   "cell_type": "markdown",
   "metadata": {},
   "source": [
    "#### 12. Escribe un programa que solicite al usuario un número entero positivo (`n`) y luego imprima un patrón de asteriscos como el siguiente ejemplo para `n = 5`:\n",
    "```\n",
    "*\n",
    "**\n",
    "***\n",
    "****\n",
    "*****\n",
    "```\n",
    "Utiliza un bucle `for` anidado para controlar la cantidad de asteriscos en cada línea."
   ]
  },
  {
   "cell_type": "code",
   "execution_count": 20,
   "metadata": {},
   "outputs": [
    {
     "name": "stdout",
     "output_type": "stream",
     "text": [
      "*\n",
      "**\n",
      "***\n",
      "****\n",
      "*****\n",
      "******\n",
      "*******\n",
      "********\n",
      "*********\n",
      "**********\n"
     ]
    }
   ],
   "source": [
    "# Solicitar al usuario un número entero positivo\n",
    "n = int(input(\"Ingrese un número entero positivo: \"))\n",
    "\n",
    "# Generar el patrón de asteriscos\n",
    "for i in range(1, n + 1):  # Controla las líneas\n",
    "    print(\"*\" * i)  # Imprime 'i' asteriscos en cada línea\n"
   ]
  },
  {
   "cell_type": "markdown",
   "metadata": {},
   "source": [
    "#### 13. Dado un texto, utiliza un bucle `for` para contar cuántas veces aparece cada palabra en el texto. Ignora mayúsculas/minúsculas y los signos de puntuación."
   ]
  },
  {
   "cell_type": "code",
   "execution_count": 21,
   "metadata": {},
   "outputs": [
    {
     "name": "stdout",
     "output_type": "stream",
     "text": [
      "La palabra 'hola' aparece 2 veces.\n",
      "La palabra 'personas' aparece 1 veces.\n",
      "La palabra 'del' aparece 2 veces.\n",
      "La palabra 'mundo' aparece 2 veces.\n",
      "La palabra 'estoy' aparece 1 veces.\n",
      "La palabra 'complacido' aparece 1 veces.\n",
      "La palabra 'de' aparece 1 veces.\n",
      "La palabra 'empezar' aparece 1 veces.\n",
      "La palabra 'este' aparece 1 veces.\n",
      "La palabra 'nuevos' aparece 1 veces.\n",
      "La palabra 'curso' aparece 1 veces.\n",
      "La palabra 'que' aparece 1 veces.\n",
      "La palabra 'me' aparece 1 veces.\n",
      "La palabra 'va' aparece 1 veces.\n",
      "La palabra 'a' aparece 2 veces.\n",
      "La palabra 'ayudar' aparece 1 veces.\n",
      "La palabra 'ser' aparece 1 veces.\n",
      "La palabra 'el' aparece 1 veces.\n",
      "La palabra 'mejor' aparece 1 veces.\n"
     ]
    }
   ],
   "source": [
    "import string\n",
    "\n",
    "# Solicitar al usuario un texto\n",
    "texto = input(\"Ingrese un texto: \")\n",
    "\n",
    "# Eliminar signos de puntuación y convertir a minúsculas\n",
    "texto_limpio = texto.translate(str.maketrans(\"\", \"\", string.punctuation)).lower()\n",
    "\n",
    "# Dividir el texto en palabras\n",
    "palabras = texto_limpio.split()\n",
    "\n",
    "# Crear un diccionario para contar las palabras\n",
    "conteo_palabras = {}\n",
    "\n",
    "# Usar un bucle for para contar las palabras\n",
    "for palabra in palabras:\n",
    "    if palabra in conteo_palabras:\n",
    "        conteo_palabras[palabra] += 1\n",
    "    else:\n",
    "        conteo_palabras[palabra] = 1\n",
    "\n",
    "# Imprimir el conteo de cada palabra\n",
    "for palabra, cantidad in conteo_palabras.items():\n",
    "    print(f\"La palabra '{palabra}' aparece {cantidad} veces.\")\n"
   ]
  },
  {
   "cell_type": "markdown",
   "metadata": {},
   "source": [
    "#### 14. Escribe un programa que solicite al usuario dos números enteros positivos (`inicio` y `fin`, donde `inicio <= fin`) y luego calcule la suma de los números pares y la suma de los números impares en ese rango. Utiliza un bucle `for` para iterar sobre cada número y una estructura `if-else` para clasificar y sumar los números pares e impares."
   ]
  },
  {
   "cell_type": "code",
   "execution_count": 18,
   "metadata": {},
   "outputs": [
    {
     "name": "stdout",
     "output_type": "stream",
     "text": [
      "La suma de los números pares en el rango es: 6251900\n",
      "La suma de los números impares en el rango es: 6249375\n"
     ]
    }
   ],
   "source": [
    "# Solicitar al usuario los números de inicio y fin\n",
    "inicio = int(input(\"Ingrese el número de inicio (entero positivo): \"))\n",
    "fin = int(input(\"Ingrese el número de fin (entero positivo, mayor o igual al inicio): \"))\n",
    "\n",
    "# Verificar que inicio <= fin\n",
    "if inicio > fin:\n",
    "    print(\"El número de inicio debe ser menor o igual al número de fin.\")\n",
    "else:\n",
    "    suma_pares = 0\n",
    "    suma_impares = 0\n",
    "\n",
    "    # Iterar sobre cada número en el rango\n",
    "    for numero in range(inicio, fin + 1):\n",
    "        if numero % 2 == 0:  # Número par\n",
    "            suma_pares += numero\n",
    "        else:  # Número impar\n",
    "            suma_impares += numero\n",
    "\n",
    "    # Imprimir los resultados\n",
    "    print(f\"La suma de los números pares en el rango es: {suma_pares}\")\n",
    "    print(f\"La suma de los números impares en el rango es: {suma_impares}\")\n"
   ]
  },
  {
   "cell_type": "markdown",
   "metadata": {},
   "source": [
    "#### 15. Escribe un programa que solicite al usuario un número entero positivo (`n`) y luego identifique todos los números primos menores o iguales a `n`. Para cada número, imprime si es primo o no usando un bucle `for` y una estructura `if-else` para verificar la condición de primalidad."
   ]
  },
  {
   "cell_type": "code",
   "execution_count": 16,
   "metadata": {},
   "outputs": [
    {
     "name": "stdout",
     "output_type": "stream",
     "text": [
      "2 es primo.\n",
      "3 es primo.\n",
      "4 no es primo.\n",
      "5 es primo.\n",
      "6 no es primo.\n",
      "7 es primo.\n",
      "8 no es primo.\n",
      "9 no es primo.\n",
      "10 no es primo.\n",
      "11 es primo.\n",
      "12 no es primo.\n",
      "13 es primo.\n",
      "14 no es primo.\n",
      "15 no es primo.\n"
     ]
    }
   ],
   "source": [
    "# Solicitar al usuario un número entero positivo\n",
    "n = int(input(\"Ingrese un número entero positivo: \"))\n",
    "\n",
    "# Verificar si cada número hasta n es primo\n",
    "for numero in range(2, n + 1):  # Comienza en 2 porque 1 no es primo\n",
    "    es_primo = True\n",
    "    for i in range(2, int(numero ** 0.5) + 1):  # Verifica divisores hasta la raíz cuadrada\n",
    "        if numero % i == 0:\n",
    "            es_primo = False\n",
    "            break\n",
    "    if es_primo:\n",
    "        print(f\"{numero} es primo.\")\n",
    "    else:\n",
    "        print(f\"{numero} no es primo.\")\n"
   ]
  },
  {
   "cell_type": "markdown",
   "metadata": {},
   "source": [
    "#### 16.Dada una lista de precios `[100, 200, 300, 400, 500]`, aplica un descuento del 10% a todos los precios mayores a `250`. Imprime la lista actualizada de precios después de aplicar el descuento utilizando un bucle `for`. "
   ]
  },
  {
   "cell_type": "code",
   "execution_count": 11,
   "metadata": {},
   "outputs": [
    {
     "name": "stdout",
     "output_type": "stream",
     "text": [
      "El precio original 100 no tiene descuento.\n",
      "El precio original 200 no tiene descuento.\n",
      "El precio original era 300, con descuento es 270.00\n",
      "El precio original era 400, con descuento es 360.00\n",
      "El precio original era 500, con descuento es 450.00\n"
     ]
    }
   ],
   "source": [
    "# Lista de precios\n",
    "lista_precios = [100, 200, 300, 400, 500]\n",
    "\n",
    "# Iterar sobre la lista y aplicar descuento a los precios mayores a 250\n",
    "for precio in lista_precios:\n",
    "    if precio > 250:  # Condición para aplicar descuento\n",
    "        descuento = precio * 0.10  # Calcular el 10% del precio\n",
    "        precio_con_descuento = precio - descuento  # Aplicar descuento\n",
    "        print(f\"El precio original era {precio}, con descuento es {precio_con_descuento:.2f}\")\n",
    "    else:\n",
    "        print(f\"El precio original {precio} no tiene descuento.\")\n",
    "\n"
   ]
  },
  {
   "cell_type": "markdown",
   "metadata": {},
   "source": [
    "#### 17. Dada una lista de calificaciones de estudiantes `[85, 92, 78, 90, 88]`, clasifica a cada estudiante como \"Aprobado\" si la calificación es mayor o igual a `80` y como \"Reprobado\" si es menor a `80`. Imprime el nombre de cada estudiante junto con su estado utilizando un bucle `for` y una estructura `if-else`.\n"
   ]
  },
  {
   "cell_type": "code",
   "execution_count": 12,
   "metadata": {},
   "outputs": [
    {
     "name": "stdout",
     "output_type": "stream",
     "text": [
      "Ana: Aprobado\n",
      "Luis: Aprobado\n",
      "María: Reprobado\n",
      "Carlos: Aprobado\n",
      "Sofía: Aprobado\n"
     ]
    }
   ],
   "source": [
    "# Lista de nombres de estudiantes y sus calificaciones\n",
    "nombres = [\"Ana\", \"Luis\", \"María\", \"Carlos\", \"Sofía\"]\n",
    "calificaciones = [85, 92, 78, 90, 88]\n",
    "\n",
    "# Clasificar a cada estudiante como \"Aprobado\" o \"Reprobado\"\n",
    "for i in range(len(calificaciones)):\n",
    "    estado = \"Aprobado\" if calificaciones[i] >= 80 else \"Reprobado\"\n",
    "    print(f\"{nombres[i]}: {estado}\")\n"
   ]
  },
  {
   "cell_type": "markdown",
   "metadata": {},
   "source": [
    "\n",
    "#### 18. Escribe un programa que solicite al usuario dos números enteros positivos (`inicio`, `fin`) y otro número entero positivo (`divisor`). Encuentra el número más grande en el rango desde `inicio` hasta `fin` que sea divisible por `divisor`. Utiliza un bucle `for` y una estructura `if-else` para verificar y mantener el registro del número más grande divisible por el divisor dado.\n"
   ]
  },
  {
   "cell_type": "markdown",
   "metadata": {},
   "source": []
  }
 ],
 "metadata": {
  "kernelspec": {
   "display_name": "Python 3",
   "language": "python",
   "name": "python3"
  },
  "language_info": {
   "codemirror_mode": {
    "name": "ipython",
    "version": 3
   },
   "file_extension": ".py",
   "mimetype": "text/x-python",
   "name": "python",
   "nbconvert_exporter": "python",
   "pygments_lexer": "ipython3",
   "version": "3.13.0"
  }
 },
 "nbformat": 4,
 "nbformat_minor": 2
}
