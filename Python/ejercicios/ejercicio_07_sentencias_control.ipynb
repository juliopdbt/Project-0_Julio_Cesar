{
 "cells": [
  {
   "cell_type": "markdown",
   "metadata": {},
   "source": [
    "<div style=\"text-align: center;\">\n",
    "  <img src=\"https://github.com/Hack-io-Data/Imagenes/blob/main/01-LogosHackio/logo_celeste@4x.png?raw=true\" alt=\"logo hack(io)\" />\n",
    "</div>"
   ]
  },
  {
   "cell_type": "markdown",
   "metadata": {},
   "source": [
    "#### 1. Escribe un programa que determine si un número es par o impar.\n",
    "\n"
   ]
  },
  {
   "cell_type": "code",
   "execution_count": 3,
   "metadata": {},
   "outputs": [
    {
     "name": "stdout",
     "output_type": "stream",
     "text": [
      "El número 8 es par\n"
     ]
    }
   ],
   "source": [
    "numero= int(input(\"ingresa un numero\"))\n",
    "if numero % 2 == 0:\n",
    "    print(f\"El número {numero} es par\")\n",
    "else:\n",
    "    print(f\"El número {numero} es impar\")"
   ]
  },
  {
   "cell_type": "markdown",
   "metadata": {},
   "source": [
    "#### 2. Genera un programa que nos diga si es de noche, de día o tarde según la hora proporcionada por el usuario."
   ]
  },
  {
   "cell_type": "code",
   "execution_count": 12,
   "metadata": {},
   "outputs": [
    {
     "name": "stdout",
     "output_type": "stream",
     "text": [
      "es noche\n"
     ]
    }
   ],
   "source": [
    "hora= int(input(\"ingrese una hora entre (0 y 23): \"))\n",
    "\n",
    "if 0<= hora <24:\n",
    "    if 0 <= hora < 12:\n",
    "        print(\"es de día\")\n",
    "    \n",
    "    elif 12 <= hora < 18:\n",
    "        print (\"es tarde\")\n",
    "    \n",
    "    else:\n",
    "        print(\"es noche\")\n",
    "\n",
    "else:\n",
    "    print(\"hora no valida, el rango es entre 0 y 23\")"
   ]
  },
  {
   "cell_type": "markdown",
   "metadata": {},
   "source": [
    "#### 3. Dado un nombre imprime un saludo personalizado."
   ]
  },
  {
   "cell_type": "code",
   "execution_count": 19,
   "metadata": {},
   "outputs": [
    {
     "name": "stdout",
     "output_type": "stream",
     "text": [
      "¡Hola Ana Bienvenida!\n"
     ]
    }
   ],
   "source": [
    "nombre = input(\"Ingresa tu nombre: \")\n",
    "sexo = input(\"ingresa tu sexo\")\n",
    "\n",
    "if sexo == \"masculino\":\n",
    "    print (f\"¡Hola\", nombre, \"Bienvenido!\")\n",
    "elif sexo == \"femenino\":\n",
    "    print (f\"¡Hola\", nombre, \"Bienvenida!\")\n",
    "else:\n",
    "    print (f\"¡Hola\", nombre, \"Bienvenidx!\")\n"
   ]
  },
  {
   "cell_type": "markdown",
   "metadata": {},
   "source": [
    "#### 4. Escribe un programa que determine qué calificación en texto tiene un alumno en base a su calificación numérica. Las reglas de calificación son: \n",
    "\n",
    "- 0 - 69 insuficiente\n",
    "\n",
    "- 70 - 79 bien\n",
    "\n",
    "- 80 - 89 muy bien\n",
    "\n",
    "- 90 - 100 excelente\n"
   ]
  },
  {
   "cell_type": "code",
   "execution_count": 24,
   "metadata": {},
   "outputs": [
    {
     "name": "stdout",
     "output_type": "stream",
     "text": [
      "¡enhorabuena! Muy buen trabajo \n"
     ]
    }
   ],
   "source": [
    "#Requerimiento de la calificación\n",
    "calificación= int(input(\"Ingresa la calificación del alumno\"))\n",
    "\n",
    "#Condición insuficiente (IF)\n",
    "if 0<= calificación <= 69:\n",
    "    print (\"Lo sentimos, calificación insuficiente\")\n",
    "#Condición bien (ELIF)\n",
    "elif 70<= calificación <= 79:\n",
    "    print (\"Buen intento, calificación bien\")\n",
    "#Condición muy bien (ELIF)\n",
    "elif 80<= calificación <= 89:\n",
    "    print (\"¡enhorabuena! Muy buen trabajo \")\n",
    "#Condición Excelente (ELIF)\n",
    "elif 90<= calificación <= 100:\n",
    "    print (\"¡Felicitaciones! TQM, Muy orgulloso\")\n",
    "#Condición Excelente (ELSE)\n",
    "else:\n",
    "    print (\"Calificación no valida, los valores deben estar en un rango de 0 a 100\")\n"
   ]
  },
  {
   "cell_type": "markdown",
   "metadata": {},
   "source": [
    "#### 5. Escribe un programa que imprima el día de la semana, dado un número del 1 al 7.\n"
   ]
  },
  {
   "cell_type": "code",
   "execution_count": 28,
   "metadata": {},
   "outputs": [
    {
     "name": "stdout",
     "output_type": "stream",
     "text": [
      "Martes\n"
     ]
    }
   ],
   "source": [
    "#DIAS DE LA SEMANAAAAAA\n",
    "dia_semana = int(input(\"Ingresa un número del 1 al 7. ¡Por favor!\"))\n",
    "\n",
    "#Condiciones\n",
    "if 1 == dia_semana:\n",
    "    print(\"Lunes\")\n",
    "elif 2 == dia_semana:\n",
    "    print(\"Martes\")\n",
    "elif 3 == dia_semana:\n",
    "    print(\"Miercoles\")\n",
    "elif 4 == dia_semana:\n",
    "    print(\"Jueves\")\n",
    "elif 5 == dia_semana:\n",
    "    print(\"viernes\")\n",
    "elif 6 == dia_semana:\n",
    "    print(\"Sábado\")\n",
    "elif 7 == dia_semana:\n",
    "    print(\"Domingo\")\n",
    "else:\n",
    "    print(\"El programa solo acepta el rango 1:7. Función no valida\")"
   ]
  },
  {
   "cell_type": "markdown",
   "metadata": {},
   "source": [
    "#### 6. Escribe un programa que determine si un número es positivo, negativo o cero."
   ]
  },
  {
   "cell_type": "code",
   "execution_count": 36,
   "metadata": {},
   "outputs": [
    {
     "name": "stdout",
     "output_type": "stream",
     "text": [
      "El numero es: 0.0\n"
     ]
    }
   ],
   "source": [
    "tipo_numero = float(input(\"Ingresa número\"))\n",
    "if tipo_numero >0:\n",
    "    print(f\"El numero: {tipo_numero} es positivo\")\n",
    "elif tipo_numero <0:\n",
    "    print(f\"El numero: {tipo_numero} es negativo\")\n",
    "else:\n",
    "    print(f\"El numero es: {tipo_numero}\")"
   ]
  },
  {
   "cell_type": "markdown",
   "metadata": {},
   "source": [
    "#### 7. Escribe un programa que determine si una persona puede conducir o no. La edad mínima para conducir es 18 años. \n"
   ]
  },
  {
   "cell_type": "code",
   "execution_count": 37,
   "metadata": {},
   "outputs": [
    {
     "name": "stdout",
     "output_type": "stream",
     "text": [
      "con 25 años, puedes conoducir\n"
     ]
    }
   ],
   "source": [
    "puede_conducir= int(input(\"¿Qué edad tienes\"))\n",
    "if puede_conducir >= 18:\n",
    "    print(f\"con {puede_conducir} años, puedes conoducir\")\n",
    "else:\n",
    "    print(f\"con {puede_conducir} años, NO puedes conducir\")"
   ]
  },
  {
   "cell_type": "markdown",
   "metadata": {},
   "source": [
    "#### 8. Escribe un programa que determine si un estudiante aprobó o suspendió un examen."
   ]
  },
  {
   "cell_type": "code",
   "execution_count": 38,
   "metadata": {},
   "outputs": [
    {
     "name": "stdout",
     "output_type": "stream",
     "text": [
      "aprobado\n"
     ]
    }
   ],
   "source": [
    "Calificación_examen =  float (input(\"Cuál fue tu calificación?\"))\n",
    "\n",
    "if 0 <= Calificación_examen <= 50:\n",
    "    print(\"Suspendido\")\n",
    "elif 51 <= Calificación_examen <= 100:\n",
    "    print(\"aprobado\")\n",
    "else:\n",
    "    print(\"La función solo acepta un rango de 0 a 100.\")"
   ]
  },
  {
   "cell_type": "markdown",
   "metadata": {},
   "source": [
    "#### 9. Escribe un programa que determine si un número es múltiplo de 3 y 5.\n"
   ]
  },
  {
   "cell_type": "code",
   "execution_count": 44,
   "metadata": {},
   "outputs": [
    {
     "name": "stdout",
     "output_type": "stream",
     "text": [
      "El número 15 es multiplo de 3 y 5 \n"
     ]
    }
   ],
   "source": [
    "multiplo3_5 = int(input(\"Ingrese un número\"))\n",
    "\n",
    "if multiplo3_5 %3 == 0 and multiplo3_5 %5 == 0:\n",
    "    print(\"El número\", multiplo3_5, \"es multiplo de 3 y 5 \")\n",
    "\n",
    "else:\n",
    "    print(\"El número\", multiplo3_5, \"no es multiplo de 3 y 5\")"
   ]
  },
  {
   "cell_type": "markdown",
   "metadata": {},
   "source": [
    "#### 10. Escribe un programa que determine si un número es par o impar.\n"
   ]
  },
  {
   "cell_type": "code",
   "execution_count": null,
   "metadata": {},
   "outputs": [],
   "source": [
    "numero= int(input(\"ingresa un numero\"))\n",
    "if numero % 2 == 0:\n",
    "    print(f\"El número {numero} es par\")\n",
    "else:\n",
    "    print(f\"El número {numero} es impar\")"
   ]
  }
 ],
 "metadata": {
  "kernelspec": {
   "display_name": "Python 3",
   "language": "python",
   "name": "python3"
  },
  "language_info": {
   "codemirror_mode": {
    "name": "ipython",
    "version": 3
   },
   "file_extension": ".py",
   "mimetype": "text/x-python",
   "name": "python",
   "nbconvert_exporter": "python",
   "pygments_lexer": "ipython3",
   "version": "3.12.6"
  }
 },
 "nbformat": 4,
 "nbformat_minor": 2
}
